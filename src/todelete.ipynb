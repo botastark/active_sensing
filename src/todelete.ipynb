{
 "cells": [
  {
   "cell_type": "code",
   "execution_count": 1,
   "metadata": {},
   "outputs": [
    {
     "name": "stdout",
     "output_type": "stream",
     "text": [
      "Loading cached field from cache/field_tiles_60x110.pkl\n"
     ]
    }
   ],
   "source": [
    "from tile_class import TileOperations\n",
    "from helper import get_s0_s1\n",
    "\n",
    "\n",
    "class grid_info:\n",
    "    x = 60\n",
    "    y = 110\n",
    "    length = 1\n",
    "    shape = (int(x / length), int(y / length))\n",
    "\n",
    "\n",
    "tiles_dir = \"/home/bota/Downloads/projtiles1/\"\n",
    "gps_csv = \"/home/bota/Desktop/active_sensing/data/gpstiles.csv\"\n",
    "row_imgs_dir = \"/media/bota/BOTA/wheat/APPEZZAMENTO_PICCOLO/\"\n",
    "tile_ops = TileOperations(tiles_dir, gps_csv, row_imgs_dir)\n",
    "ground_truth_map = tile_ops.groundtruth_tiles(grid_info, cache_dir=\"cache\")"
   ]
  },
  {
   "cell_type": "code",
   "execution_count": 2,
   "metadata": {},
   "outputs": [
    {
     "name": "stdout",
     "output_type": "stream",
     "text": [
      "alt h: 10.83\n",
      "dict content: dict_keys(['6.5', '12.99', '19.49', '25.98', '32.48', '38.97'])\n"
     ]
    },
    {
     "ename": "KeyError",
     "evalue": "'10.83'",
     "output_type": "error",
     "traceback": [
      "\u001b[0;31m---------------------------------------------------------------------------\u001b[0m",
      "\u001b[0;31mKeyError\u001b[0m                                  Traceback (most recent call last)",
      "Cell \u001b[0;32mIn[2], line 4\u001b[0m\n\u001b[1;32m      2\u001b[0m altitude \u001b[38;5;241m=\u001b[39m altitudes[\u001b[38;5;241m1\u001b[39m]\n\u001b[1;32m      3\u001b[0m true_matrix \u001b[38;5;241m=\u001b[39m ground_truth_map[\u001b[38;5;241m0\u001b[39m:\u001b[38;5;241m20\u001b[39m, \u001b[38;5;241m10\u001b[39m:\u001b[38;5;241m20\u001b[39m]\n\u001b[0;32m----> 4\u001b[0m conf_mat, (s0, s1) \u001b[38;5;241m=\u001b[39m \u001b[43mget_s0_s1\u001b[49m\u001b[43m(\u001b[49m\u001b[43mtrue_matrix\u001b[49m\u001b[43m,\u001b[49m\u001b[43m \u001b[49m\u001b[43maltitude\u001b[49m\u001b[43m,\u001b[49m\u001b[43m \u001b[49m\u001b[43me\u001b[49m\u001b[38;5;241;43m=\u001b[39;49m\u001b[38;5;241;43m0.3\u001b[39;49m\u001b[43m)\u001b[49m\n",
      "File \u001b[0;32m~/Desktop/active_sensing/src/helper.py:504\u001b[0m, in \u001b[0;36mget_s0_s1\u001b[0;34m(true_matrix, altitude, e)\u001b[0m\n\u001b[1;32m    502\u001b[0m \u001b[38;5;28mprint\u001b[39m(\u001b[38;5;124mf\u001b[39m\u001b[38;5;124m\"\u001b[39m\u001b[38;5;124malt h: \u001b[39m\u001b[38;5;132;01m{\u001b[39;00m\u001b[38;5;28mstr\u001b[39m(altitude)\u001b[38;5;132;01m}\u001b[39;00m\u001b[38;5;124m\"\u001b[39m)\n\u001b[1;32m    503\u001b[0m \u001b[38;5;28mprint\u001b[39m(\u001b[38;5;124mf\u001b[39m\u001b[38;5;124m\"\u001b[39m\u001b[38;5;124mdict content: \u001b[39m\u001b[38;5;132;01m{\u001b[39;00mloaded_dict\u001b[38;5;241m.\u001b[39mkeys()\u001b[38;5;132;01m}\u001b[39;00m\u001b[38;5;124m\"\u001b[39m)\n\u001b[0;32m--> 504\u001b[0m \u001b[38;5;28mprint\u001b[39m(\u001b[38;5;124mf\u001b[39m\u001b[38;5;124m\"\u001b[39m\u001b[38;5;124mloading N: \u001b[39m\u001b[38;5;132;01m{\u001b[39;00m\u001b[43mloaded_dict\u001b[49m\u001b[43m[\u001b[49m\u001b[38;5;28;43mstr\u001b[39;49m\u001b[43m(\u001b[49m\u001b[43maltitude\u001b[49m\u001b[43m)\u001b[49m\u001b[43m]\u001b[49m[\u001b[38;5;28mstr\u001b[39m(e)]\u001b[38;5;132;01m}\u001b[39;00m\u001b[38;5;124m\"\u001b[39m)\n\u001b[1;32m    506\u001b[0m N \u001b[38;5;241m=\u001b[39m \u001b[38;5;28mint\u001b[39m(\u001b[38;5;28mfloat\u001b[39m(loaded_dict[\u001b[38;5;28mstr\u001b[39m(altitude)][\u001b[38;5;28mstr\u001b[39m(e)]))\n\u001b[1;32m    507\u001b[0m \u001b[38;5;66;03m# print(f\"total n tiles: {true_matrix.shape[0]*true_matrix.shape[1]}\")\u001b[39;00m\n",
      "\u001b[0;31mKeyError\u001b[0m: '10.83'"
     ]
    }
   ],
   "source": [
    "# altitudes = [5.41, 10.83, 16.24, 21.65, 27.06, 32.48]\n",
    "altitudes=[ 6.5  12.99 19.49 25.98 32.48 38.97]\n",
    "altitude = altitudes[1]\n",
    "true_matrix = ground_truth_map[0:20, 10:20]\n",
    "conf_mat, (s0, s1) = get_s0_s1(true_matrix, altitude, e=0.3)"
   ]
  },
  {
   "cell_type": "code",
   "execution_count": 16,
   "metadata": {},
   "outputs": [
    {
     "data": {
      "text/plain": [
       "array([[0.85, 0.13],\n",
       "       [0.15, 0.87]])"
      ]
     },
     "execution_count": 16,
     "metadata": {},
     "output_type": "execute_result"
    }
   ],
   "source": [
    "conf_mat"
   ]
  },
  {
   "cell_type": "code",
   "execution_count": 17,
   "metadata": {},
   "outputs": [
    {
     "name": "stderr",
     "output_type": "stream",
     "text": [
      "/tmp/ipykernel_7231/1310960355.py:19: UserWarning: This figure includes Axes that are not compatible with tight_layout, so results might be incorrect.\n",
      "  plt.tight_layout()\n"
     ]
    },
    {
     "data": {
      "text/plain": [
       "<Figure size 500x300 with 0 Axes>"
      ]
     },
     "metadata": {},
     "output_type": "display_data"
    },
    {
     "data": {
      "image/png": "[encoded data removed]",
      "text/plain": [
       "<Figure size 480x480 with 1 Axes>"
      ]
     },
     "metadata": {},
     "output_type": "display_data"
    }
   ],
   "source": [
    "from matplotlib import pyplot as plt\n",
    "import numpy as np\n",
    "\n",
    "classes = [\"0\", \"1\"]\n",
    "matrix = conf_mat\n",
    "\n",
    "plt.figure(figsize=(5, 3))  # Set figure size\n",
    "cax = plt.matshow(matrix, cmap=\"Blues\", alpha=0.75)\n",
    "\n",
    "for (i, j), val in np.ndenumerate(matrix):\n",
    "    plt.text(j, i, f\"{val}\", ha=\"center\", va=\"center\", color=\"black\")\n",
    "\n",
    "plt.xticks(ticks=np.arange(len(classes)), labels=classes, fontsize=10)\n",
    "plt.yticks(ticks=np.arange(len(classes)), labels=classes, fontsize=10)\n",
    "plt.xlabel(\"True Label\", fontsize=9)\n",
    "plt.ylabel(\"Predicted Label\", fontsize=9)\n",
    "\n",
    "plt.title(\"Confusion Matrix\", fontsize=14, pad=20)\n",
    "plt.tight_layout()\n",
    "plt.show()"
   ]
  },
  {
   "cell_type": "code",
   "execution_count": null,
   "metadata": {},
   "outputs": [],
   "source": []
  }
 ],
 "metadata": {
  "kernelspec": {
   "display_name": ".venv",
   "language": "python",
   "name": "python3"
  },
  "language_info": {
   "codemirror_mode": {
    "name": "ipython",
    "version": 3
   },
   "file_extension": ".py",
   "mimetype": "text/x-python",
   "name": "python",
   "nbconvert_exporter": "python",
   "pygments_lexer": "ipython3",
   "version": "3.10.12"
  }
 },
 "nbformat": 4,
 "nbformat_minor": 2
}
